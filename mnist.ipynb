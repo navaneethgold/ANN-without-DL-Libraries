{
 "cells": [
  {
   "cell_type": "markdown",
   "id": "03cf1b1c",
   "metadata": {},
   "source": [
    "Building an ANN over MNIST dataset without using Deep Learning Libraries"
   ]
  },
  {
   "cell_type": "code",
   "execution_count": 23,
   "id": "2f99064f",
   "metadata": {},
   "outputs": [],
   "source": [
    "import numpy as np\n",
    "from sklearn.datasets import load_digits\n",
    "from sklearn.model_selection import train_test_split\n",
    "from sklearn.preprocessing import OneHotEncoder\n",
    "import matplotlib.pyplot as plt\n",
    "\n",
    "# Activation functions\n",
    "def relu(x):\n",
    "    return np.maximum(0, x)\n",
    "\n",
    "def relu_derivative(x):\n",
    "    return (x > 0).astype(float)\n",
    "\n",
    "def softmax(z):\n",
    "    exp_z = np.exp(z - np.max(z, axis=1, keepdims=True))\n",
    "    return exp_z / np.sum(exp_z, axis=1, keepdims=True)\n",
    "\n",
    "def cross_entropy_loss(predictions, targets):\n",
    "    n_samples = targets.shape[0]\n",
    "    logp = -np.log(predictions[range(n_samples), targets.argmax(axis=1)] + 1e-9)\n",
    "    return np.sum(logp) / n_samples\n",
    "\n",
    "\n",
    "\n"
   ]
  },
  {
   "cell_type": "code",
   "execution_count": 24,
   "id": "b31e5e1b",
   "metadata": {},
   "outputs": [
    {
     "data": {
      "text/plain": [
       "(1797, 8, 8)"
      ]
     },
     "execution_count": 24,
     "metadata": {},
     "output_type": "execute_result"
    }
   ],
   "source": [
    "digits = load_digits()\n",
    "images = digits.images\n",
    "labels = digits.target\n",
    "\n",
    "images.shape"
   ]
  },
  {
   "cell_type": "code",
   "execution_count": 25,
   "id": "27d76353",
   "metadata": {},
   "outputs": [
    {
     "data": {
      "text/plain": [
       "(1797,)"
      ]
     },
     "execution_count": 25,
     "metadata": {},
     "output_type": "execute_result"
    }
   ],
   "source": [
    "labels.shape"
   ]
  },
  {
   "cell_type": "code",
   "execution_count": 26,
   "id": "38393598",
   "metadata": {},
   "outputs": [
    {
     "data": {
      "image/png": "[encoded data removed]",
      "text/plain": [
       "<Figure size 1000x200 with 10 Axes>"
      ]
     },
     "metadata": {},
     "output_type": "display_data"
    }
   ],
   "source": [
    "plt.figure(figsize=(10, 2))\n",
    "for i in range(10):\n",
    "    plt.subplot(1, 10, i + 1)\n",
    "    plt.imshow(images[i], cmap='gray')\n",
    "    plt.title(labels[i])\n",
    "    plt.axis('off')\n",
    "\n",
    "plt.tight_layout()\n",
    "plt.show()"
   ]
  },
  {
   "cell_type": "code",
   "execution_count": 27,
   "id": "c00723c3",
   "metadata": {},
   "outputs": [
    {
     "name": "stdout",
     "output_type": "stream",
     "text": [
      "Epoch 0, Loss: 10.8858\n",
      "Epoch 100, Loss: 4.1302\n",
      "Epoch 200, Loss: 2.4402\n",
      "Epoch 300, Loss: 1.7328\n",
      "Epoch 400, Loss: 1.3588\n",
      "Epoch 500, Loss: 1.1217\n",
      "Epoch 600, Loss: 0.9584\n",
      "Epoch 700, Loss: 0.8395\n",
      "Epoch 800, Loss: 0.7491\n",
      "Epoch 900, Loss: 0.6785\n"
     ]
    }
   ],
   "source": [
    "X = digits.images.reshape(len(digits.images), -1) / 16.0\n",
    "y = digits.target.reshape(-1, 1)\n",
    "\n",
    "\n",
    "encoder = OneHotEncoder(sparse_output=False)\n",
    "y_encoded = encoder.fit_transform(y)\n",
    "\n",
    "X_train, X_test, y_train, y_test = train_test_split(X, y_encoded, test_size=0.2, random_state=42)\n",
    "\n",
    "input_size = 64\n",
    "hidden_size = 32\n",
    "output_size = 10\n",
    "learning_rate = 0.01\n",
    "\n",
    "W1 = np.random.randn(input_size, hidden_size)\n",
    "b1 = np.zeros((1, hidden_size))\n",
    "W2 = np.random.randn(hidden_size, output_size)\n",
    "b2 = np.zeros((1, output_size))\n",
    "\n",
    "\n",
    "epochs = 1000\n",
    "train_losses = []\n",
    "for epoch in range(epochs):\n",
    "    hidden_input = np.dot(X_train, W1) + b1\n",
    "    hidden_output = relu(hidden_input)\n",
    "\n",
    "    final_input = np.dot(hidden_output, W2) + b2\n",
    "    predictions = softmax(final_input)\n",
    "\n",
    "    loss = cross_entropy_loss(predictions, y_train)\n",
    "    train_losses.append(loss)\n",
    "    \n",
    "    loss = cross_entropy_loss(predictions, y_train)\n",
    "    error_out = (predictions - y_train) / y_train.shape[0]\n",
    "    dW2 = np.dot(hidden_output.T, error_out)\n",
    "    db2 = np.sum(error_out, axis=0, keepdims=True)\n",
    "\n",
    "    error_hidden = np.dot(error_out, W2.T) * relu_derivative(hidden_input)\n",
    "    dW1 = np.dot(X_train.T, error_hidden)\n",
    "    db1 = np.sum(error_hidden, axis=0, keepdims=True)\n",
    "\n",
    "    W2 -= learning_rate * dW2\n",
    "    b2 -= learning_rate * db2\n",
    "    W1 -= learning_rate * dW1\n",
    "    b1 -= learning_rate * db1\n",
    "\n",
    "    if epoch % 100 == 0:\n",
    "        print(f\"Epoch {epoch}, Loss: {loss:.4f}\")\n",
    "\n",
    "\n"
   ]
  },
  {
   "cell_type": "code",
   "execution_count": 28,
   "id": "988380ec",
   "metadata": {},
   "outputs": [
    {
     "name": "stdout",
     "output_type": "stream",
     "text": [
      "Test Accuracy: 78.33%\n"
     ]
    }
   ],
   "source": [
    "hidden_test = relu(np.dot(X_test, W1) + b1)\n",
    "final_test = softmax(np.dot(hidden_test, W2) + b2)\n",
    "predictions_test = np.argmax(final_test, axis=1)\n",
    "actual_test = np.argmax(y_test, axis=1)\n",
    "accuracy = np.mean(predictions_test == actual_test)\n",
    "print(f\"Test Accuracy: {accuracy*100:.2f}%\")"
   ]
  },
  {
   "cell_type": "code",
   "execution_count": 29,
   "id": "4e8aaed6",
   "metadata": {},
   "outputs": [
    {
     "name": "stdout",
     "output_type": "stream",
     "text": [
      "Number of misclassified images: 78\n"
     ]
    },
    {
     "data": {
      "image/png": "[encoded data removed]",
      "text/plain": [
       "<Figure size 1200x400 with 10 Axes>"
      ]
     },
     "metadata": {},
     "output_type": "display_data"
    }
   ],
   "source": [
    "misclassified_indices = np.where(predictions_test != actual_test)[0]\n",
    "\n",
    "print(f\"Number of misclassified images: {len(misclassified_indices)}\")\n",
    "\n",
    "plt.figure(figsize=(12, 4))\n",
    "for i, idx in enumerate(misclassified_indices[:10]):\n",
    "    image = X_test[idx].reshape(8, 8)\n",
    "    true_label = actual_test[idx]\n",
    "    predicted_label = predictions_test[idx]\n",
    "\n",
    "    plt.subplot(2, 5, i + 1)\n",
    "    plt.imshow(image, cmap='gray')\n",
    "    plt.title(f\"True: {true_label}, Pred: {predicted_label}\")\n",
    "    plt.axis('off')\n",
    "\n",
    "plt.tight_layout()\n",
    "plt.show()\n"
   ]
  },
  {
   "cell_type": "code",
   "execution_count": null,
   "id": "f4a61faa",
   "metadata": {},
   "outputs": [
    {
     "data": {
      "image/png": "[encoded data removed]",
      "text/plain": [
       "<Figure size 640x480 with 1 Axes>"
      ]
     },
     "metadata": {},
     "output_type": "display_data"
    }
   ],
   "source": [
    "plt.plot(train_losses)\n",
    "plt.title(\"Training Loss over Epochs\")\n",
    "plt.xlabel(\"Epoch\")\n",
    "plt.ylabel(\"Loss\")\n",
    "plt.grid(True)\n",
    "plt.show()\n"
   ]
  },
  {
   "cell_type": "code",
   "execution_count": null,
   "id": "72f25002",
   "metadata": {},
   "outputs": [],
   "source": []
  }
 ],
 "metadata": {
  "kernelspec": {
   "display_name": "Python 3",
   "language": "python",
   "name": "python3"
  },
  "language_info": {
   "codemirror_mode": {
    "name": "ipython",
    "version": 3
   },
   "file_extension": ".py",
   "mimetype": "text/x-python",
   "name": "python",
   "nbconvert_exporter": "python",
   "pygments_lexer": "ipython3",
   "version": "3.13.3"
  }
 },
 "nbformat": 4,
 "nbformat_minor": 5
}
